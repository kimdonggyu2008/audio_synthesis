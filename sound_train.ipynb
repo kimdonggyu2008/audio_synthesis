{
  "nbformat": 4,
  "nbformat_minor": 0,
  "metadata": {
    "colab": {
      "provenance": [],
      "authorship_tag": "ABX9TyO/2IupxQjN7tCxa8LeV/DW",
      "include_colab_link": true
    },
    "kernelspec": {
      "name": "python3",
      "display_name": "Python 3"
    },
    "language_info": {
      "name": "python"
    }
  },
  "cells": [
    {
      "cell_type": "markdown",
      "metadata": {
        "id": "view-in-github",
        "colab_type": "text"
      },
      "source": [
        "<a href=\"https://colab.research.google.com/github/kimdonggyu2008/audio_synthesis/blob/main/sound_train.ipynb\" target=\"_parent\"><img src=\"https://colab.research.google.com/assets/colab-badge.svg\" alt=\"Open In Colab\"/></a>"
      ]
    },
    {
      "cell_type": "code",
      "execution_count": null,
      "metadata": {
        "id": "TVYdxoO_Icvc"
      },
      "outputs": [],
      "source": [
        "import os\n",
        "\n",
        "import numpy as np\n",
        "\n",
        "\n"
      ]
    },
    {
      "cell_type": "code",
      "source": [
        "from google.colab import drive\n",
        "drive.mount('/content/drive')"
      ],
      "metadata": {
        "colab": {
          "base_uri": "https://localhost:8080/"
        },
        "id": "bZH6j8PHIgHj",
        "outputId": "7cbd5c1f-d5dd-42b6-fffa-ea6c62293ae0"
      },
      "execution_count": null,
      "outputs": [
        {
          "output_type": "stream",
          "name": "stdout",
          "text": [
            "Mounted at /content/drive\n"
          ]
        }
      ]
    },
    {
      "cell_type": "code",
      "source": [
        "from sound_autoencoder import VAE"
      ],
      "metadata": {
        "id": "f8Egm7l5Igdq"
      },
      "execution_count": null,
      "outputs": []
    },
    {
      "cell_type": "code",
      "source": [
        "\n",
        "LEARNING_RATE = 0.0005\n",
        "BATCH_SIZE = 64\n",
        "EPOCHS = 150\n",
        "\n",
        "SPECTROGRAMS_PATH = \"\"#스펙트로그램 전처리 값들 위치\n",
        "\n",
        "\n",
        "def load_fsdd(spectrograms_path): #스펙트로그램 읽어오기\n",
        "    x_train = []\n",
        "    for root, _, file_names in os.walk(spectrograms_path):#순차적으로 읽어옴\n",
        "        for file_name in file_names:\n",
        "            file_path = os.path.join(root, file_name)\n",
        "            spectrogram = np.load(file_path) # (n_bins, n_frames, 1)\n",
        "            x_train.append(spectrogram) #스펙트로그램 형태로 학습셋에 집어넣음\n",
        "    x_train = np.array(x_train)# 해당 배열을 넘파이로 변환\n",
        "    x_train = x_train[..., np.newaxis] # -> (3000, 256, 64, 1)# 넘파이 배열을 위해서 1차원 추가함\n",
        "    return x_train\n",
        "\n",
        "\n",
        "def train(x_train, learning_rate, batch_size, epochs): #학습\n",
        "    autoencoder = VAE(\n",
        "        input_shape=(256, 64, 1),\n",
        "        conv_filters=(512, 256, 128, 64, 32), #프레임사이즈와 일치함, 반으로 계속 줄임\n",
        "        conv_kernels=(3, 3, 3, 3, 3),\n",
        "        conv_strides=(2, 2, 2, 2, (2, 1)),\n",
        "        latent_space_dim=128\n",
        "    )\n",
        "    autoencoder.summary()\n",
        "    autoencoder.compile(learning_rate)\n",
        "    autoencoder.train(x_train, batch_size, epochs)\n",
        "    return autoencoder\n",
        "\n",
        "\n",
        "if __name__ == \"__main__\":\n",
        "    x_train = load_fsdd(SPECTROGRAMS_PATH)\n",
        "    autoencoder = train(x_train, LEARNING_RATE, BATCH_SIZE, EPOCHS)\n",
        "    autoencoder.save(\"model\")"
      ],
      "metadata": {
        "id": "Z-9MwL9aI38O"
      },
      "execution_count": null,
      "outputs": []
    }
  ]
}