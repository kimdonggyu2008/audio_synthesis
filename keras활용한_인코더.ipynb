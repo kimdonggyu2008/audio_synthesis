{
  "nbformat": 4,
  "nbformat_minor": 0,
  "metadata": {
    "colab": {
      "provenance": [],
      "authorship_tag": "ABX9TyOwpltCC4gf9Z4JhMbj3rL8",
      "include_colab_link": true
    },
    "kernelspec": {
      "name": "python3",
      "display_name": "Python 3"
    },
    "language_info": {
      "name": "python"
    }
  },
  "cells": [
    {
      "cell_type": "markdown",
      "metadata": {
        "id": "view-in-github",
        "colab_type": "text"
      },
      "source": [
        "<a href=\"https://colab.research.google.com/github/kimdonggyu2008/audio_synthesis/blob/main/keras%ED%99%9C%EC%9A%A9%ED%95%9C_%EC%9D%B8%EC%BD%94%EB%8D%94.ipynb\" target=\"_parent\"><img src=\"https://colab.research.google.com/assets/colab-badge.svg\" alt=\"Open In Colab\"/></a>"
      ]
    },
    {
      "cell_type": "code",
      "execution_count": null,
      "metadata": {
        "id": "yISPyblfmMNk"
      },
      "outputs": [],
      "source": [
        "from tensorflow.keras import Model\n",
        "from tensorflow.keras.layers import Input, Conv2D, ReLU, BatchNormalization, Flatten, Dense\n",
        "from tensorflow.keras import backend as K"
      ]
    },
    {
      "cell_type": "code",
      "source": [
        "class Autoencoder: #인코더 선언\n",
        "  def __init__(self,\n",
        "               input_shape,\n",
        "               conv_filters,\n",
        "               conv_kernels,\n",
        "               conv_strides,\n",
        "               latent_space_dim):\n",
        "    self.input_shape=input_shape #인코더의 필터 갯수를 차례대로 선언, [28, 28, 1]\n",
        "    self.conv_filters=conv_filters #각 레이어의 컨볼루션 필터 크기, [2, 4, 8] = 2*2,4*4,8*8\n",
        "    self.conv_kernels=conv_kernels # 각 레이어의 커널(필터) 크기[3, 5, 3] = 3*3, 5*5, 3*3\n",
        "    self.conv_strides=conv_strides #컨볼루션에 적용된 필터의 이동거리 [1, 2, 2]\n",
        "    self.latent_space_dim=latent_space_dim #특징 공간 차원 수, 2\n",
        "\n",
        "    self.encoder=None\n",
        "    self.decoder=None\n",
        "    self.model=None\n",
        "    #기본 인코더, 디코더, 모델 비활성화\n",
        "\n",
        "    self._num_conv_layers=len(conv_filters)#레이어 갯수\n",
        "    self._shape_before_bottleneck=None\n",
        "\n",
        "    self._build()\n",
        "\n",
        "  def summary(self):\n",
        "    self.encoder.summary()\n",
        "\n",
        "  def _build(self):\n",
        "    self._build_encoder()#인코더 생성\n",
        "    #self._build_decoder()\n",
        "    #self.build_autoencoder()\n",
        "\n",
        "  def _build_encoder(self):#인코더 내부 채우기\n",
        "    encoder_input=self._add_encoder_input()#인코더 입력칸 생성\n",
        "    conv_layers=self._add_conv_layers(encoder_input)#입력값 컨볼루션에 넣음\n",
        "    bottleneck=self._add_bottleneck(conv_layers)#보틀넥 적용\n",
        "    self.encoder=Model(encoder_input,bottleneck,name=\"encoder\")#인코더로 지정한 모델 생성\n",
        "\n",
        "  def _add_encoder_input(self):#인코더 내부의 입력칸 생성\n",
        "    return Input(shape=self.input_shape,name=\"encoder_input\")#입력값 받아서 넣어줌\n",
        "\n",
        "  def _add_conv_layers(self,encoder_input):#\n",
        "    \"\"\"인코더의 각 컨볼루션 레이어\"\"\"\n",
        "    x=encoder_input#인코더 입력창\n",
        "    for layer_index in range(self._num_conv_layers):\n",
        "      x=self._add_conv_layer(layer_index,x)#레이어 갯수만큼 시행\n",
        "    return x\n",
        "\n",
        "  def _add_conv_layer(self,layer_index,x):#x번째, 컨볼루션 레이어 추가\n",
        "    \"\"\"conv2d+relu+batch normalization\"\"\"\n",
        "    layer_number=layer_index+1#마지막 relu를 위한 레이어 추가로 넣음\n",
        "    conv_layer=Conv2D( #컨볼루션 선언\n",
        "        filters=self.conv_filters[layer_index],#필터 갯수\n",
        "        kernel_size=self.conv_kernels[layer_index],#커널(필터) 크기\n",
        "        strides=self.conv_strides[layer_index],#몇 칸씩 이동할건지\n",
        "        padding=\"same\",#동일 크기 유지\n",
        "        name=f\"encoder_conv_layer_{layer_number}\"#이름 지정\n",
        "    )\n",
        "    x=conv_layer(x)#컨볼루션의 결괏값(?)\n",
        "    x=ReLU(name=f\"encoder_relu_{layer_number}\")(x)#결괏값에 relu적용\n",
        "    x=BatchNormalization(name=f\"encoder_bn_{layer_number}\")(x)# relu적용값에 정규화 적용\n",
        "    return x #결과값 반화\n",
        "\n",
        "  def _add_bottleneck(self,x):#Dense레이어 보틀넥 생성\n",
        "    self._shape_before_bottleneck=K.int_shape(x)[1:]#backend 임포트한 것 적용, 평평하기 이전 데이터들 저장\n",
        "    x=Flatten()(x) #차원 축소\n",
        "    x=Dense(self.latent_space_dim,name=\"encoder_output\")(x)\n",
        "    return x\n",
        "\n",
        "\n",
        "if __name__==\"__main__\":\n",
        "  autoencoder=Autoencoder(\n",
        "        input_shape=(28,28,1), #입력값\n",
        "        conv_filters=(32, 64, 64, 64),\n",
        "        conv_kernels=(3,3,3,3),\n",
        "        conv_strides=(1,2,2,1),\n",
        "        latent_space_dim=2\n",
        "    )\n",
        "  autoencoder.summary()\n"
      ],
      "metadata": {
        "colab": {
          "base_uri": "https://localhost:8080/"
        },
        "id": "IvDV9CstmbUx",
        "outputId": "e40f4816-6577-44eb-94f4-7dced053f9ec"
      },
      "execution_count": null,
      "outputs": [
        {
          "output_type": "stream",
          "name": "stdout",
          "text": [
            "Model: \"encoder\"\n",
            "_________________________________________________________________\n",
            " Layer (type)                Output Shape              Param #   \n",
            "=================================================================\n",
            " encoder_input (InputLayer)  [(None, 28, 28, 1)]       0         \n",
            "                                                                 \n",
            " encoder_conv_layer_1 (Conv  (None, 28, 28, 32)        320       \n",
            " 2D)                                                             \n",
            "                                                                 \n",
            " encoder_relu_1 (ReLU)       (None, 28, 28, 32)        0         \n",
            "                                                                 \n",
            " encoder_bn_1 (BatchNormali  (None, 28, 28, 32)        128       \n",
            " zation)                                                         \n",
            "                                                                 \n",
            " encoder_conv_layer_2 (Conv  (None, 14, 14, 64)        18496     \n",
            " 2D)                                                             \n",
            "                                                                 \n",
            " encoder_relu_2 (ReLU)       (None, 14, 14, 64)        0         \n",
            "                                                                 \n",
            " encoder_bn_2 (BatchNormali  (None, 14, 14, 64)        256       \n",
            " zation)                                                         \n",
            "                                                                 \n",
            " encoder_conv_layer_3 (Conv  (None, 7, 7, 64)          36928     \n",
            " 2D)                                                             \n",
            "                                                                 \n",
            " encoder_relu_3 (ReLU)       (None, 7, 7, 64)          0         \n",
            "                                                                 \n",
            " encoder_bn_3 (BatchNormali  (None, 7, 7, 64)          256       \n",
            " zation)                                                         \n",
            "                                                                 \n",
            " encoder_conv_layer_4 (Conv  (None, 7, 7, 64)          36928     \n",
            " 2D)                                                             \n",
            "                                                                 \n",
            " encoder_relu_4 (ReLU)       (None, 7, 7, 64)          0         \n",
            "                                                                 \n",
            " encoder_bn_4 (BatchNormali  (None, 7, 7, 64)          256       \n",
            " zation)                                                         \n",
            "                                                                 \n",
            " flatten_2 (Flatten)         (None, 3136)              0         \n",
            "                                                                 \n",
            " encoder_output (Dense)      (None, 2)                 6274      \n",
            "                                                                 \n",
            "=================================================================\n",
            "Total params: 99842 (390.01 KB)\n",
            "Trainable params: 99394 (388.26 KB)\n",
            "Non-trainable params: 448 (1.75 KB)\n",
            "_________________________________________________________________\n"
          ]
        }
      ]
    },
    {
      "cell_type": "code",
      "source": [],
      "metadata": {
        "id": "8Hj8S1ZwrgwZ"
      },
      "execution_count": null,
      "outputs": []
    }
  ]
}