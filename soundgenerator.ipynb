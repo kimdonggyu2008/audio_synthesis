{
  "nbformat": 4,
  "nbformat_minor": 0,
  "metadata": {
    "colab": {
      "provenance": [],
      "authorship_tag": "ABX9TyOxDOMcEJ9ZCrXpJwB+mUln",
      "include_colab_link": true
    },
    "kernelspec": {
      "name": "python3",
      "display_name": "Python 3"
    },
    "language_info": {
      "name": "python"
    }
  },
  "cells": [
    {
      "cell_type": "markdown",
      "metadata": {
        "id": "view-in-github",
        "colab_type": "text"
      },
      "source": [
        "<a href=\"https://colab.research.google.com/github/kimdonggyu2008/audio_synthesis/blob/main/soundgenerator.ipynb\" target=\"_parent\"><img src=\"https://colab.research.google.com/assets/colab-badge.svg\" alt=\"Open In Colab\"/></a>"
      ]
    },
    {
      "cell_type": "code",
      "execution_count": null,
      "metadata": {
        "id": "Z_qgVqWML6QU"
      },
      "outputs": [],
      "source": [
        "import librosa\n",
        "from sound_preprocess import MinMaxNormaliser\n"
      ]
    },
    {
      "cell_type": "code",
      "source": [
        "class SoundGenerator: #스펙트로그램에서 소리 생성\n",
        "  def __init__(self,vae,hop_length): #초기값 선언\n",
        "    self.vae=vae\n",
        "    self.hop_length=hop_length #스펙트로그램에서 가져올 크기\n",
        "    self._min_max_normaliser=MinMaxNormaliser(0,1)#정규화 크기는 0부터 1까지\n",
        "\n",
        "  def generate(self,spectrograms,min_max_values): #생성\n",
        "    generated_spectrograms,latent_representations=self.vae.reconstruct(spectrograms) #새로 만들 스펙트로그램, 특징벡터\n",
        "    signals=self.convert_spectrograms_to_audio(generated_spectrograms,min_max_values)#해당 데이터들로 오디오 생성\n",
        "    return signals,latent_representations\n",
        "\n",
        "  def convert_spectrograms_to_audio(self,spectrograms,min_max_values):#오디오 생성 함수\n",
        "    signals=[]\n",
        "    for spectrograms,min_max_value in zip(spectrograms,min_max_values):\n",
        "      log_spectrogram=spectrogram[:,:,0] #로그 스펙트럼 형태변환, 주기확인 용이함\n",
        "      denorm_log_spec=self._min_max_normaliser.denormalise( #정규화 품\n",
        "          log_spectrogram,min_max_value[\"min\"],min_max_value[\"max\"])#로그 스펙트럼을 일반 스펙트럼으로 바꿈\n",
        "      spec=librosa.db_to_amplitude(denorm_log_spec)#데시벨->진폭\n",
        "      signal=librosa.istft(spec,hop_length=self.hop_length)#역 푸리에 변환\n",
        "      signals.append(signal) #웨이브파일로 변경됨\n",
        "    return signals"
      ],
      "metadata": {
        "id": "UzHeNsWBMHNL"
      },
      "execution_count": null,
      "outputs": []
    }
  ]
}