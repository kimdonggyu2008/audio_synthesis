{
  "nbformat": 4,
  "nbformat_minor": 0,
  "metadata": {
    "colab": {
      "provenance": [],
      "authorship_tag": "ABX9TyMrJBJujrm/esXPFQskn4vT",
      "include_colab_link": true
    },
    "kernelspec": {
      "name": "python3",
      "display_name": "Python 3"
    },
    "language_info": {
      "name": "python"
    }
  },
  "cells": [
    {
      "cell_type": "markdown",
      "metadata": {
        "id": "view-in-github",
        "colab_type": "text"
      },
      "source": [
        "<a href=\"https://colab.research.google.com/github/kimdonggyu2008/audio_synthesis/blob/main/sound_generate.ipynb\" target=\"_parent\"><img src=\"https://colab.research.google.com/assets/colab-badge.svg\" alt=\"Open In Colab\"/></a>"
      ]
    },
    {
      "cell_type": "code",
      "execution_count": null,
      "metadata": {
        "colab": {
          "base_uri": "https://localhost:8080/"
        },
        "id": "3ykPEHEHNax-",
        "outputId": "f5929bc9-4a85-428b-f877-457962d9e360"
      },
      "outputs": [
        {
          "output_type": "stream",
          "name": "stdout",
          "text": [
            "Mounted at /content/drive\n"
          ]
        }
      ],
      "source": [
        "from google.colab import drive\n",
        "drive.mount('/content/drive')"
      ]
    },
    {
      "cell_type": "code",
      "source": [
        "import os\n",
        "import pickle\n",
        "\n",
        "import numpy as np\n",
        "import soundfile as sf\n",
        "\n",
        "from soundgenerator import SoundGenerator\n",
        "from sound_autoencoder import VAE\n",
        "from sound_train import SPECTROGRAMS_PATH\n",
        "\n",
        "HOP_LENGTH=256\n",
        "SAVE_DIR_ORIGINAL=\"\"\n",
        "SAVE_DIR_GENERATED=\"\"\n",
        "SAVE_DIR_GENERATED=\"\"\n",
        "MIN_MAX_VALUES_PATH=\"/content/drive/MyDrive/오디오_합성/\"\n"
      ],
      "metadata": {
        "colab": {
          "base_uri": "https://localhost:8080/",
          "height": 404
        },
        "id": "nLJ2eua-Ne2c",
        "outputId": "c0494018-63d4-4349-9bf8-4abcf21e3d70"
      },
      "execution_count": null,
      "outputs": [
        {
          "output_type": "error",
          "ename": "ModuleNotFoundError",
          "evalue": "No module named 'soundgenerator'",
          "traceback": [
            "\u001b[0;31m---------------------------------------------------------------------------\u001b[0m",
            "\u001b[0;31mModuleNotFoundError\u001b[0m                       Traceback (most recent call last)",
            "\u001b[0;32m<ipython-input-2-7a4f05cb3bba>\u001b[0m in \u001b[0;36m<cell line: 7>\u001b[0;34m()\u001b[0m\n\u001b[1;32m      5\u001b[0m \u001b[0;32mimport\u001b[0m \u001b[0msoundfile\u001b[0m \u001b[0;32mas\u001b[0m \u001b[0msf\u001b[0m\u001b[0;34m\u001b[0m\u001b[0;34m\u001b[0m\u001b[0m\n\u001b[1;32m      6\u001b[0m \u001b[0;34m\u001b[0m\u001b[0m\n\u001b[0;32m----> 7\u001b[0;31m \u001b[0;32mfrom\u001b[0m \u001b[0msoundgenerator\u001b[0m \u001b[0;32mimport\u001b[0m \u001b[0mSoundGenerator\u001b[0m\u001b[0;34m\u001b[0m\u001b[0;34m\u001b[0m\u001b[0m\n\u001b[0m\u001b[1;32m      8\u001b[0m \u001b[0;32mfrom\u001b[0m \u001b[0msound_autoencoder\u001b[0m \u001b[0;32mimport\u001b[0m \u001b[0mVAE\u001b[0m\u001b[0;34m\u001b[0m\u001b[0;34m\u001b[0m\u001b[0m\n\u001b[1;32m      9\u001b[0m \u001b[0;32mfrom\u001b[0m \u001b[0msound_train\u001b[0m \u001b[0;32mimport\u001b[0m \u001b[0mSPECTROGRAMS_PATH\u001b[0m\u001b[0;34m\u001b[0m\u001b[0;34m\u001b[0m\u001b[0m\n",
            "\u001b[0;31mModuleNotFoundError\u001b[0m: No module named 'soundgenerator'",
            "",
            "\u001b[0;31m---------------------------------------------------------------------------\u001b[0;32m\nNOTE: If your import is failing due to a missing package, you can\nmanually install dependencies using either !pip or !apt.\n\nTo view examples of installing some common dependencies, click the\n\"Open Examples\" button below.\n\u001b[0;31m---------------------------------------------------------------------------\u001b[0m\n"
          ],
          "errorDetails": {
            "actions": [
              {
                "action": "open_url",
                "actionText": "Open Examples",
                "url": "/notebooks/snippets/importing_libraries.ipynb"
              }
            ]
          }
        }
      ]
    },
    {
      "cell_type": "code",
      "source": [
        "def load_fsdd(spectrograms_path):\n",
        "  x_train=[]\n",
        "  file_paths=[]\n",
        "  for root,_,file_names in os.walk(spectrograms_path):#스펙트로그램 가져옴\n",
        "    for file_name in file_names:\n",
        "      file_path=os.path.join(root,file_name)#각 파일에 대해서 읽어옴\n",
        "      spectrograms=np.load(file_path)\n",
        "      x_train.append(spectrogram)\n",
        "      file_paths.append(file_path)\n",
        "  x_train=np.array(x_train) #훈련셋으로 스펙트로그램 입력\n",
        "  x_train=x_train[...,np.newaxis] #입력된 3차원 스펙트로그램에 1차원 추가\n",
        "  return x_train,file_paths\n",
        "\n",
        "def select_spectrograms(spectrograms, #\n",
        "                        file_paths,\n",
        "                        min_max_values,\n",
        "                        num_spectrograms=2):\n",
        "  sampled_indexes=np.random.choice(range(len(spectrograms)),num_spectrograms)\n",
        "  sampled_spectrograms=spectrograms[sampled_indexes] #스펙트로그램을 샘플 갯수만큼 자름\n",
        "  file_paths=[file_paths[index] for index in sampled_indexes]\n",
        "  sampled_min_max_values=[min_max_values[file_path] for file_path in file_paths]#해당 샘플의 최소 최대 확인\n",
        "  print(file_paths)\n",
        "  print(sampled_min_max_values)\n",
        "  return sampled_spectrogrmas, sampled_min_max_values\n",
        "\n",
        "def save_signals(signals,save_dir,sample_rate=22050):\n",
        "  for i,signal in enumerate(signals):\n",
        "    save_path=os.path.join(save_dir,str(i)+\".wav\")#웨이브 파일로 저장\n",
        "    sf.write(save_path,signal,sample_rate)\n",
        "\n",
        "if __name__==\"__main__\":\n",
        "  vae=VAE.load(\"model\")#학습 모델 가져옴\n",
        "  sound_generator=SoundGenerator(vae,HOP_LENGTH)#생성기 모델 및 학습 거리 지정\n",
        "\n",
        "  with open(MIN_MAX_VALUES_PATH,\"rb\") as f:#최소, 최대 데이터 읽어옴\n",
        "    min_max_values=pickle.load(f)#파일 읽어옴\n",
        "\n",
        "  specs,file_paths=load_fsdd(SPECTROGRAMS_PATH)#스펙트로그램 파일 읽어옴\n",
        "\n",
        "  sampled_specs,sampled_min_max_values=select_spectrograms(specs,\n",
        "                                                           file_paths,\n",
        "                                                           min_max_values,\n",
        "                                                           5)\n",
        "\n",
        "  signals,_=sound_generator.generate(sampled_specs, #샘플 조각, 최소 최댓값을 이용해서 스펙트로그램 생성\n",
        "                                     sampled_min_max_values)\n",
        "\n",
        "  original_signals=sound_generator.convert_spectrograms_to_audio(#생성된 스펙트로그램을 오디오로 변경\n",
        "      sampled_specs,sampled_min_max_values)\n",
        "\n",
        "  save_signals(signals,SAVE_DIR_GENERATED) #생성된 데이터 저장\n",
        "  save_signals(original_signals,SAVE_DIR_ORIGINAL) #원 데이터 저장"
      ],
      "metadata": {
        "id": "mO7Y0dX8N9o6"
      },
      "execution_count": null,
      "outputs": []
    }
  ]
}