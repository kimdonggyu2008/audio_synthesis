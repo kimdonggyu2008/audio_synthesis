{
  "nbformat": 4,
  "nbformat_minor": 0,
  "metadata": {
    "colab": {
      "provenance": [],
      "authorship_tag": "ABX9TyNnoxSODN9YnE1aDvNsDrPB",
      "include_colab_link": true
    },
    "kernelspec": {
      "name": "python3",
      "display_name": "Python 3"
    },
    "language_info": {
      "name": "python"
    }
  },
  "cells": [
    {
      "cell_type": "markdown",
      "metadata": {
        "id": "view-in-github",
        "colab_type": "text"
      },
      "source": [
        "<a href=\"https://colab.research.google.com/github/kimdonggyu2008/audio_synthesis/blob/main/sound_preprocess.ipynb\" target=\"_parent\"><img src=\"https://colab.research.google.com/assets/colab-badge.svg\" alt=\"Open In Colab\"/></a>"
      ]
    },
    {
      "cell_type": "code",
      "execution_count": null,
      "metadata": {
        "id": "6WRHkQ7ozCoi"
      },
      "outputs": [],
      "source": [
        "import os\n",
        "import pickle\n",
        "\n",
        "import librosa\n",
        "import numpy as np"
      ]
    },
    {
      "cell_type": "code",
      "source": [
        "from google.colab import drive\n",
        "drive.mount('/content/drive')"
      ],
      "metadata": {
        "colab": {
          "base_uri": "https://localhost:8080/"
        },
        "id": "8S4g-3Si8i2s",
        "outputId": "aa5bc1c9-e824-4d2d-c8a8-1d542eef76a0"
      },
      "execution_count": null,
      "outputs": [
        {
          "output_type": "stream",
          "name": "stdout",
          "text": [
            "Mounted at /content/drive\n"
          ]
        }
      ]
    },
    {
      "cell_type": "code",
      "source": [
        "class Loader:\n",
        "  def __init__(self,sample_rate,duration,mono): #저장된 파일 읽어오기\n",
        "    self.sample_rate=sample_rate #현재 클래스의 내용으로 저장\n",
        "    self.duration=duration\n",
        "    self.mono=mono #단일 여부 저장\n",
        "\n",
        "  def load(self,file_path): #주어진 위치의 파일에서 시그널로 먼저 읽어옴\n",
        "    signal=librosa.load(file_path, #파일은 E:\\프로그래밍 공부용 파일에 있음, archive\n",
        "                        sr=self.sample_rate,\n",
        "                        duration=self.duration,\n",
        "                        mono=self.mono)[0]\n",
        "    return signal\n",
        "\n",
        "class Padder:\n",
        "  def __init__(self,mode=\"constant\"):\n",
        "    self.mode=mode\n",
        "\n",
        "  def left_pad(self,array,num_missing_items): #넘파이 배열로 바뀐 스펙트럼에 패딩 추가, 앞쪽\n",
        "    padded_array=np.pad(array,\n",
        "                        (num_missing_items,0),#num_missing은 총 길이에서 현재 샘플길이만큼 뺀값\n",
        "                        mode=self.mode)\n",
        "    return padded_array\n",
        "\n",
        "  def right_pad(self,array,num_missing_items):# 뒤쪽에 패딩 추가\n",
        "    padded_array=np.pad(array,\n",
        "                        (0,num_missing_items),\n",
        "                        mode=self.mode)\n",
        "    return padded_array\n",
        "\n",
        "class LogSpectrogramExtractor: #로그 스펙트럼으로 추출\n",
        "  def __init__(self,frame_size,hop_length): #로그 스펙트럼 기본 설정\n",
        "    self.frame_size=frame_size #각 프레임 크기\n",
        "    self.hop_length=hop_length # 각 프레임별로 얼마나 움직일지 설정\n",
        "\n",
        "  def extract(self,signal): #시그널 추출\n",
        "    stft=librosa.stft(signal,#단시간 푸리에 변환\n",
        "                      n_fft=self.frame_size,\n",
        "                      hop_lenghth=self.hop_length)[:-1]\n",
        "    spectrogram=np.abs(stft) #푸리에 변환 절댓값\n",
        "    log_spectrogram=librosa.amplitude_to_db(spectrogram) #진폭을 데시벨로 변환\n",
        "    return log_spectrogram\n",
        "\n",
        "class MinMaxNormaliser: #정규화(?)\n",
        "  def __init__(self,min_val,max_val):\n",
        "    self.min=min_val#정규화 최소치\n",
        "    self.max=max_val#정규화 최고치\n",
        "\n",
        "  def normalise(self,array): #0부터 1까지 정규화\n",
        "    norm_array=(array-array.min())/(array.max()-array.min())\n",
        "    norm_array=norm_array*(self.max-self.min)+self.min\n",
        "    return norm_array\n",
        "\n",
        "  def denormalise(self,norm_array,original_min, original_max):\n",
        "    array=(norm_array-self.min)/(self.max-self.min)\n",
        "    array=array*(original_max-original_min)+original_min\n",
        "    return array\n",
        "\n",
        "class Saver: #저장기능(저장 위치)\n",
        "  def __init__(self,feature_save_dir,min_max_values_save_dir):\n",
        "    self.feature_save_dir=feature_save_dir\n",
        "    self.min_max_values_save_dir=min_max_values_save_dir\n",
        "\n",
        "  def save_feature(self,feature,file_path):#요소 저장\n",
        "    save_path=self._generate_save_path(file_path)\n",
        "    np.save(save_path,feature)\n",
        "\n",
        "  def save_min_max_values(self,min_max_values):#최댓값, 최솟값 저장\n",
        "    save_path=os.path.join(self.min_max_values_save_dir,\n",
        "                           \"min_max_values.pkl\")\n",
        "    self._save(min_max_values, save_path)\n",
        "\n",
        "  @staticmethod\n",
        "  def _save(data, save_path): #데이터 저장\n",
        "      with open(save_path, \"wb\") as f:\n",
        "          pickle.dump(data, f)\n",
        "\n",
        "\n",
        "class PreprocessingPipeline: #파이프라인 선언\n",
        "  \"\"\"\n",
        "  1. 파일 로드\n",
        "  2. 파일의 파형 패딩(길이 일치시키기)\n",
        "  3. 로그 스펙트로그램 추출\n",
        "  4. 스펙트로그램 정규화\n",
        "  5. 정규화 값 저장\n",
        "  \"\"\"\n",
        "  def __init__(self): #프로세스 순서 선언\n",
        "    self.padder=None\n",
        "    self.extractor=None\n",
        "    self.normaliser=None\n",
        "    self.saver=None\n",
        "    self.min_max_values={}\n",
        "    self._loader=None\n",
        "    self._num_expected_samples=None\n",
        "\n",
        "  def loader(self): #원 데이터 로딩\n",
        "    return self._loader\n",
        "\n",
        "  def loader(self,loader): #다른 파일에서 가져오기(?)\n",
        "    self._loader=loader\n",
        "    self._num_expected_samples=int(loader.sample_rate * loader.duration)\n",
        "\n",
        "  def process(self,audio_files_dir): #프로세싱, 각 파일에 대해서 실행\n",
        "    for root,_,files in os.walk(audio_files_dir):#\"_\"는 디렉토리 이름인데 필요없음\n",
        "      for file in files:\n",
        "        file_path=os.path.join(root,file)\n",
        "        self._process_file(file_path)\n",
        "        print(f\"Processed file {file_path}\")\n",
        "    self.saver.save_min_max_values(self.min_max_values)\n",
        "\n",
        "  def _process_file(self,file_path): #하나씩 골라진 파일에 대해서 실행\n",
        "    signal=self.loader.load(file_path) #로드\n",
        "    if self._is_padding_necessary(signal): #각 파일에 대해서 패딩필요여부 확인, 길이가 충분한가?\n",
        "      signal=self._apply_padding(signal) #충분하지 않으면 패딩으로 길이 늘림\n",
        "    feature=self.extractor.extract(signal) #요소 추출\n",
        "    norm_feature=self.normaliser.normalise(feature)# 정규화(?)\n",
        "    save_path=self.saver.save_feature(norm_feature,file_path)#프로세싱 끝난 내용 저장\n",
        "    self._store_min_max_value(save_path,feature.min(),feature.max())# 최솟값, 최댓값 저장\n",
        "\n",
        "  def _is_padding_necessary(self,signal):#모자란 길이에 대해서 패딩여부 조사\n",
        "    if len(signal)<self._num_expected_samples:\n",
        "      return True\n",
        "    return False\n",
        "\n",
        "  def _apply_padding(self,signal): #앞쪽에 패딩 추가\n",
        "    num_missing_samples=self._num_expected_samples-len(signal)\n",
        "    padding_signal=self.padder.right_pad(signal,num_missing_samples)\n",
        "    return padded_signal\n",
        "\n",
        "  def _store_min_max_value(self,save_path,min_val,max_val):#최소 최대 저장\n",
        "    self.min_max_values[save_path]={\n",
        "        \"min\":min_val,\n",
        "        \"max\":max_val\n",
        "    }\n",
        "\n",
        "if __name__==\"__main__\":\n",
        "  FRAME_SIZE=512 #512개로 샘플 나눔\n",
        "  HOP_LENGTH=256\n",
        "  DURATION=0.74 #지정된 최대 샘플길이\n",
        "  SAMPLE_RATE=22050\n",
        "  MONO=True\n",
        "\n",
        "  SPECTROGRAMS_SAVE_DIR=\"/content/drive/MyDrive/오디오_합성/\"\n",
        "  MIN_MAX_VALUES_SAVE_DIR=\"/content/drive/MyDrive/오디오_합성/\"\n",
        "  FILES_DIR=\"/content/drive/MyDrive/오디오_합성/\"\n",
        "\n",
        "  loader=Loader(SAMPLE_RATE,DURATION,MONO)\n",
        "  padder=Padder()\n",
        "  log_spectrogram_extractor=LogSpectrogramExtractor(FRAME_SIZE,HOP_LENGTH)\n",
        "  min_max_normaliser=MinMaxNormaliser(0,1)\n",
        "  saver=Saver(SPECTROGRAMS_SAVE_DIR,MIN_MAX_VALUES_SAVE_DIR)\n",
        "\n",
        "  preprocessing_pipeline=PreprocessingPipeline()\n",
        "  preprocessing_pipeline.loader=loader\n",
        "  preprocessing_pipeline.padder=padder\n",
        "  preprocessing_pipeline.extractor=log_spectrogram_extractor\n",
        "  preprocessing_pipeline.normaliser=min_max_normaliser\n",
        "  preprocessing_pipeline.saver=saver\n",
        "\n",
        "  preprocessing_pipeline.process(FILES_DIR)"
      ],
      "metadata": {
        "colab": {
          "base_uri": "https://localhost:8080/",
          "height": 557
        },
        "id": "ZOII6vuwzOtT",
        "outputId": "37ad0f94-ab41-4c4c-abb9-1fd78f755b23"
      },
      "execution_count": null,
      "outputs": [
        {
          "output_type": "stream",
          "name": "stderr",
          "text": [
            "<ipython-input-15-8768ef54f91e>:8: UserWarning: PySoundFile failed. Trying audioread instead.\n",
            "  signal=librosa.load(file_path,\n",
            "/usr/local/lib/python3.10/dist-packages/librosa/core/audio.py:183: FutureWarning: librosa.core.audio.__audioread_load\n",
            "\tDeprecated as of librosa version 0.10.0.\n",
            "\tIt will be removed in librosa version 1.0.\n",
            "  y, sr_native = __audioread_load(path, offset, duration, dtype)\n"
          ]
        },
        {
          "output_type": "error",
          "ename": "NoBackendError",
          "evalue": "",
          "traceback": [
            "\u001b[0;31m---------------------------------------------------------------------------\u001b[0m",
            "\u001b[0;31mLibsndfileError\u001b[0m                           Traceback (most recent call last)",
            "\u001b[0;32m/usr/local/lib/python3.10/dist-packages/librosa/core/audio.py\u001b[0m in \u001b[0;36mload\u001b[0;34m(path, sr, mono, offset, duration, dtype, res_type)\u001b[0m\n\u001b[1;32m    174\u001b[0m         \u001b[0;32mtry\u001b[0m\u001b[0;34m:\u001b[0m\u001b[0;34m\u001b[0m\u001b[0;34m\u001b[0m\u001b[0m\n\u001b[0;32m--> 175\u001b[0;31m             \u001b[0my\u001b[0m\u001b[0;34m,\u001b[0m \u001b[0msr_native\u001b[0m \u001b[0;34m=\u001b[0m \u001b[0m__soundfile_load\u001b[0m\u001b[0;34m(\u001b[0m\u001b[0mpath\u001b[0m\u001b[0;34m,\u001b[0m \u001b[0moffset\u001b[0m\u001b[0;34m,\u001b[0m \u001b[0mduration\u001b[0m\u001b[0;34m,\u001b[0m \u001b[0mdtype\u001b[0m\u001b[0;34m)\u001b[0m\u001b[0;34m\u001b[0m\u001b[0;34m\u001b[0m\u001b[0m\n\u001b[0m\u001b[1;32m    176\u001b[0m \u001b[0;34m\u001b[0m\u001b[0m\n",
            "\u001b[0;32m/usr/local/lib/python3.10/dist-packages/librosa/core/audio.py\u001b[0m in \u001b[0;36m__soundfile_load\u001b[0;34m(path, offset, duration, dtype)\u001b[0m\n\u001b[1;32m    207\u001b[0m         \u001b[0;31m# Otherwise, create the soundfile object\u001b[0m\u001b[0;34m\u001b[0m\u001b[0;34m\u001b[0m\u001b[0m\n\u001b[0;32m--> 208\u001b[0;31m         \u001b[0mcontext\u001b[0m \u001b[0;34m=\u001b[0m \u001b[0msf\u001b[0m\u001b[0;34m.\u001b[0m\u001b[0mSoundFile\u001b[0m\u001b[0;34m(\u001b[0m\u001b[0mpath\u001b[0m\u001b[0;34m)\u001b[0m\u001b[0;34m\u001b[0m\u001b[0;34m\u001b[0m\u001b[0m\n\u001b[0m\u001b[1;32m    209\u001b[0m \u001b[0;34m\u001b[0m\u001b[0m\n",
            "\u001b[0;32m/usr/local/lib/python3.10/dist-packages/soundfile.py\u001b[0m in \u001b[0;36m__init__\u001b[0;34m(self, file, mode, samplerate, channels, subtype, endian, format, closefd)\u001b[0m\n\u001b[1;32m    657\u001b[0m                                          format, subtype, endian)\n\u001b[0;32m--> 658\u001b[0;31m         \u001b[0mself\u001b[0m\u001b[0;34m.\u001b[0m\u001b[0m_file\u001b[0m \u001b[0;34m=\u001b[0m \u001b[0mself\u001b[0m\u001b[0;34m.\u001b[0m\u001b[0m_open\u001b[0m\u001b[0;34m(\u001b[0m\u001b[0mfile\u001b[0m\u001b[0;34m,\u001b[0m \u001b[0mmode_int\u001b[0m\u001b[0;34m,\u001b[0m \u001b[0mclosefd\u001b[0m\u001b[0;34m)\u001b[0m\u001b[0;34m\u001b[0m\u001b[0;34m\u001b[0m\u001b[0m\n\u001b[0m\u001b[1;32m    659\u001b[0m         \u001b[0;32mif\u001b[0m \u001b[0mset\u001b[0m\u001b[0;34m(\u001b[0m\u001b[0mmode\u001b[0m\u001b[0;34m)\u001b[0m\u001b[0;34m.\u001b[0m\u001b[0missuperset\u001b[0m\u001b[0;34m(\u001b[0m\u001b[0;34m'r+'\u001b[0m\u001b[0;34m)\u001b[0m \u001b[0;32mand\u001b[0m \u001b[0mself\u001b[0m\u001b[0;34m.\u001b[0m\u001b[0mseekable\u001b[0m\u001b[0;34m(\u001b[0m\u001b[0;34m)\u001b[0m\u001b[0;34m:\u001b[0m\u001b[0;34m\u001b[0m\u001b[0;34m\u001b[0m\u001b[0m\n",
            "\u001b[0;32m/usr/local/lib/python3.10/dist-packages/soundfile.py\u001b[0m in \u001b[0;36m_open\u001b[0;34m(self, file, mode_int, closefd)\u001b[0m\n\u001b[1;32m   1215\u001b[0m             \u001b[0merr\u001b[0m \u001b[0;34m=\u001b[0m \u001b[0m_snd\u001b[0m\u001b[0;34m.\u001b[0m\u001b[0msf_error\u001b[0m\u001b[0;34m(\u001b[0m\u001b[0mfile_ptr\u001b[0m\u001b[0;34m)\u001b[0m\u001b[0;34m\u001b[0m\u001b[0;34m\u001b[0m\u001b[0m\n\u001b[0;32m-> 1216\u001b[0;31m             \u001b[0;32mraise\u001b[0m \u001b[0mLibsndfileError\u001b[0m\u001b[0;34m(\u001b[0m\u001b[0merr\u001b[0m\u001b[0;34m,\u001b[0m \u001b[0mprefix\u001b[0m\u001b[0;34m=\u001b[0m\u001b[0;34m\"Error opening {0!r}: \"\u001b[0m\u001b[0;34m.\u001b[0m\u001b[0mformat\u001b[0m\u001b[0;34m(\u001b[0m\u001b[0mself\u001b[0m\u001b[0;34m.\u001b[0m\u001b[0mname\u001b[0m\u001b[0;34m)\u001b[0m\u001b[0;34m)\u001b[0m\u001b[0;34m\u001b[0m\u001b[0;34m\u001b[0m\u001b[0m\n\u001b[0m\u001b[1;32m   1217\u001b[0m         \u001b[0;32mif\u001b[0m \u001b[0mmode_int\u001b[0m \u001b[0;34m==\u001b[0m \u001b[0m_snd\u001b[0m\u001b[0;34m.\u001b[0m\u001b[0mSFM_WRITE\u001b[0m\u001b[0;34m:\u001b[0m\u001b[0;34m\u001b[0m\u001b[0;34m\u001b[0m\u001b[0m\n",
            "\u001b[0;31mLibsndfileError\u001b[0m: Error opening '/content/drive/MyDrive/오디오_합성/keras활용한 인코더.ipynb': Format not recognised.",
            "\nDuring handling of the above exception, another exception occurred:\n",
            "\u001b[0;31mNoBackendError\u001b[0m                            Traceback (most recent call last)",
            "\u001b[0;32m<ipython-input-15-8768ef54f91e>\u001b[0m in \u001b[0;36m<cell line: 127>\u001b[0;34m()\u001b[0m\n\u001b[1;32m    149\u001b[0m   \u001b[0mpreprocessing_pipeline\u001b[0m\u001b[0;34m.\u001b[0m\u001b[0msaver\u001b[0m\u001b[0;34m=\u001b[0m\u001b[0msaver\u001b[0m\u001b[0;34m\u001b[0m\u001b[0;34m\u001b[0m\u001b[0m\n\u001b[1;32m    150\u001b[0m \u001b[0;34m\u001b[0m\u001b[0m\n\u001b[0;32m--> 151\u001b[0;31m   \u001b[0mpreprocessing_pipeline\u001b[0m\u001b[0;34m.\u001b[0m\u001b[0mprocess\u001b[0m\u001b[0;34m(\u001b[0m\u001b[0mFILES_DIR\u001b[0m\u001b[0;34m)\u001b[0m\u001b[0;34m\u001b[0m\u001b[0;34m\u001b[0m\u001b[0m\n\u001b[0m",
            "\u001b[0;32m<ipython-input-15-8768ef54f91e>\u001b[0m in \u001b[0;36mprocess\u001b[0;34m(self, audio_files_dir)\u001b[0m\n\u001b[1;32m     96\u001b[0m       \u001b[0;32mfor\u001b[0m \u001b[0mfile\u001b[0m \u001b[0;32min\u001b[0m \u001b[0mfiles\u001b[0m\u001b[0;34m:\u001b[0m\u001b[0;34m\u001b[0m\u001b[0;34m\u001b[0m\u001b[0m\n\u001b[1;32m     97\u001b[0m         \u001b[0mfile_path\u001b[0m\u001b[0;34m=\u001b[0m\u001b[0mos\u001b[0m\u001b[0;34m.\u001b[0m\u001b[0mpath\u001b[0m\u001b[0;34m.\u001b[0m\u001b[0mjoin\u001b[0m\u001b[0;34m(\u001b[0m\u001b[0mroot\u001b[0m\u001b[0;34m,\u001b[0m\u001b[0mfile\u001b[0m\u001b[0;34m)\u001b[0m\u001b[0;34m\u001b[0m\u001b[0;34m\u001b[0m\u001b[0m\n\u001b[0;32m---> 98\u001b[0;31m         \u001b[0mself\u001b[0m\u001b[0;34m.\u001b[0m\u001b[0m_process_file\u001b[0m\u001b[0;34m(\u001b[0m\u001b[0mfile_path\u001b[0m\u001b[0;34m)\u001b[0m\u001b[0;34m\u001b[0m\u001b[0;34m\u001b[0m\u001b[0m\n\u001b[0m\u001b[1;32m     99\u001b[0m         \u001b[0mprint\u001b[0m\u001b[0;34m(\u001b[0m\u001b[0;34mf\"Processed file {file_path}\"\u001b[0m\u001b[0;34m)\u001b[0m\u001b[0;34m\u001b[0m\u001b[0;34m\u001b[0m\u001b[0m\n\u001b[1;32m    100\u001b[0m     \u001b[0mself\u001b[0m\u001b[0;34m.\u001b[0m\u001b[0msaver\u001b[0m\u001b[0;34m.\u001b[0m\u001b[0msave_min_max_values\u001b[0m\u001b[0;34m(\u001b[0m\u001b[0mself\u001b[0m\u001b[0;34m.\u001b[0m\u001b[0mmin_max_values\u001b[0m\u001b[0;34m)\u001b[0m\u001b[0;34m\u001b[0m\u001b[0;34m\u001b[0m\u001b[0m\n",
            "\u001b[0;32m<ipython-input-15-8768ef54f91e>\u001b[0m in \u001b[0;36m_process_file\u001b[0;34m(self, file_path)\u001b[0m\n\u001b[1;32m    101\u001b[0m \u001b[0;34m\u001b[0m\u001b[0m\n\u001b[1;32m    102\u001b[0m   \u001b[0;32mdef\u001b[0m \u001b[0m_process_file\u001b[0m\u001b[0;34m(\u001b[0m\u001b[0mself\u001b[0m\u001b[0;34m,\u001b[0m\u001b[0mfile_path\u001b[0m\u001b[0;34m)\u001b[0m\u001b[0;34m:\u001b[0m\u001b[0;34m\u001b[0m\u001b[0;34m\u001b[0m\u001b[0m\n\u001b[0;32m--> 103\u001b[0;31m     \u001b[0msignal\u001b[0m\u001b[0;34m=\u001b[0m\u001b[0mself\u001b[0m\u001b[0;34m.\u001b[0m\u001b[0mloader\u001b[0m\u001b[0;34m.\u001b[0m\u001b[0mload\u001b[0m\u001b[0;34m(\u001b[0m\u001b[0mfile_path\u001b[0m\u001b[0;34m)\u001b[0m\u001b[0;34m\u001b[0m\u001b[0;34m\u001b[0m\u001b[0m\n\u001b[0m\u001b[1;32m    104\u001b[0m     \u001b[0;32mif\u001b[0m \u001b[0mself\u001b[0m\u001b[0;34m.\u001b[0m\u001b[0m_is_padding_necessary\u001b[0m\u001b[0;34m(\u001b[0m\u001b[0msignal\u001b[0m\u001b[0;34m)\u001b[0m\u001b[0;34m:\u001b[0m\u001b[0;34m\u001b[0m\u001b[0;34m\u001b[0m\u001b[0m\n\u001b[1;32m    105\u001b[0m       \u001b[0msignal\u001b[0m\u001b[0;34m=\u001b[0m\u001b[0mself\u001b[0m\u001b[0;34m.\u001b[0m\u001b[0m_apply_padding\u001b[0m\u001b[0;34m(\u001b[0m\u001b[0msignal\u001b[0m\u001b[0;34m)\u001b[0m\u001b[0;34m\u001b[0m\u001b[0;34m\u001b[0m\u001b[0m\n",
            "\u001b[0;32m<ipython-input-15-8768ef54f91e>\u001b[0m in \u001b[0;36mload\u001b[0;34m(self, file_path)\u001b[0m\n\u001b[1;32m      6\u001b[0m \u001b[0;34m\u001b[0m\u001b[0m\n\u001b[1;32m      7\u001b[0m   \u001b[0;32mdef\u001b[0m \u001b[0mload\u001b[0m\u001b[0;34m(\u001b[0m\u001b[0mself\u001b[0m\u001b[0;34m,\u001b[0m\u001b[0mfile_path\u001b[0m\u001b[0;34m)\u001b[0m\u001b[0;34m:\u001b[0m \u001b[0;31m#주어진 위치의 파일에서 시그널로 먼저 읽어옴\u001b[0m\u001b[0;34m\u001b[0m\u001b[0;34m\u001b[0m\u001b[0m\n\u001b[0;32m----> 8\u001b[0;31m     signal=librosa.load(file_path,\n\u001b[0m\u001b[1;32m      9\u001b[0m                         \u001b[0msr\u001b[0m\u001b[0;34m=\u001b[0m\u001b[0mself\u001b[0m\u001b[0;34m.\u001b[0m\u001b[0msample_rate\u001b[0m\u001b[0;34m,\u001b[0m\u001b[0;34m\u001b[0m\u001b[0;34m\u001b[0m\u001b[0m\n\u001b[1;32m     10\u001b[0m                         \u001b[0mduration\u001b[0m\u001b[0;34m=\u001b[0m\u001b[0mself\u001b[0m\u001b[0;34m.\u001b[0m\u001b[0mduration\u001b[0m\u001b[0;34m,\u001b[0m\u001b[0;34m\u001b[0m\u001b[0;34m\u001b[0m\u001b[0m\n",
            "\u001b[0;32m/usr/local/lib/python3.10/dist-packages/librosa/core/audio.py\u001b[0m in \u001b[0;36mload\u001b[0;34m(path, sr, mono, offset, duration, dtype, res_type)\u001b[0m\n\u001b[1;32m    181\u001b[0m                     \u001b[0;34m\"PySoundFile failed. Trying audioread instead.\"\u001b[0m\u001b[0;34m,\u001b[0m \u001b[0mstacklevel\u001b[0m\u001b[0;34m=\u001b[0m\u001b[0;36m2\u001b[0m\u001b[0;34m\u001b[0m\u001b[0;34m\u001b[0m\u001b[0m\n\u001b[1;32m    182\u001b[0m                 )\n\u001b[0;32m--> 183\u001b[0;31m                 \u001b[0my\u001b[0m\u001b[0;34m,\u001b[0m \u001b[0msr_native\u001b[0m \u001b[0;34m=\u001b[0m \u001b[0m__audioread_load\u001b[0m\u001b[0;34m(\u001b[0m\u001b[0mpath\u001b[0m\u001b[0;34m,\u001b[0m \u001b[0moffset\u001b[0m\u001b[0;34m,\u001b[0m \u001b[0mduration\u001b[0m\u001b[0;34m,\u001b[0m \u001b[0mdtype\u001b[0m\u001b[0;34m)\u001b[0m\u001b[0;34m\u001b[0m\u001b[0;34m\u001b[0m\u001b[0m\n\u001b[0m\u001b[1;32m    184\u001b[0m             \u001b[0;32melse\u001b[0m\u001b[0;34m:\u001b[0m\u001b[0;34m\u001b[0m\u001b[0;34m\u001b[0m\u001b[0m\n\u001b[1;32m    185\u001b[0m                 \u001b[0;32mraise\u001b[0m \u001b[0mexc\u001b[0m\u001b[0;34m\u001b[0m\u001b[0;34m\u001b[0m\u001b[0m\n",
            "\u001b[0;32m<decorator-gen-119>\u001b[0m in \u001b[0;36m__audioread_load\u001b[0;34m(path, offset, duration, dtype)\u001b[0m\n",
            "\u001b[0;32m/usr/local/lib/python3.10/dist-packages/librosa/util/decorators.py\u001b[0m in \u001b[0;36m__wrapper\u001b[0;34m(func, *args, **kwargs)\u001b[0m\n\u001b[1;32m     57\u001b[0m             \u001b[0mstacklevel\u001b[0m\u001b[0;34m=\u001b[0m\u001b[0;36m3\u001b[0m\u001b[0;34m,\u001b[0m  \u001b[0;31m# Would be 2, but the decorator adds a level\u001b[0m\u001b[0;34m\u001b[0m\u001b[0;34m\u001b[0m\u001b[0m\n\u001b[1;32m     58\u001b[0m         )\n\u001b[0;32m---> 59\u001b[0;31m         \u001b[0;32mreturn\u001b[0m \u001b[0mfunc\u001b[0m\u001b[0;34m(\u001b[0m\u001b[0;34m*\u001b[0m\u001b[0margs\u001b[0m\u001b[0;34m,\u001b[0m \u001b[0;34m**\u001b[0m\u001b[0mkwargs\u001b[0m\u001b[0;34m)\u001b[0m\u001b[0;34m\u001b[0m\u001b[0;34m\u001b[0m\u001b[0m\n\u001b[0m\u001b[1;32m     60\u001b[0m \u001b[0;34m\u001b[0m\u001b[0m\n\u001b[1;32m     61\u001b[0m     \u001b[0;32mreturn\u001b[0m \u001b[0mdecorator\u001b[0m\u001b[0;34m(\u001b[0m\u001b[0m__wrapper\u001b[0m\u001b[0;34m)\u001b[0m\u001b[0;34m\u001b[0m\u001b[0;34m\u001b[0m\u001b[0m\n",
            "\u001b[0;32m/usr/local/lib/python3.10/dist-packages/librosa/core/audio.py\u001b[0m in \u001b[0;36m__audioread_load\u001b[0;34m(path, offset, duration, dtype)\u001b[0m\n\u001b[1;32m    237\u001b[0m     \u001b[0;32melse\u001b[0m\u001b[0;34m:\u001b[0m\u001b[0;34m\u001b[0m\u001b[0;34m\u001b[0m\u001b[0m\n\u001b[1;32m    238\u001b[0m         \u001b[0;31m# If the input was not an audioread object, try to open it\u001b[0m\u001b[0;34m\u001b[0m\u001b[0;34m\u001b[0m\u001b[0m\n\u001b[0;32m--> 239\u001b[0;31m         \u001b[0mreader\u001b[0m \u001b[0;34m=\u001b[0m \u001b[0maudioread\u001b[0m\u001b[0;34m.\u001b[0m\u001b[0maudio_open\u001b[0m\u001b[0;34m(\u001b[0m\u001b[0mpath\u001b[0m\u001b[0;34m)\u001b[0m\u001b[0;34m\u001b[0m\u001b[0;34m\u001b[0m\u001b[0m\n\u001b[0m\u001b[1;32m    240\u001b[0m \u001b[0;34m\u001b[0m\u001b[0m\n\u001b[1;32m    241\u001b[0m     \u001b[0;32mwith\u001b[0m \u001b[0mreader\u001b[0m \u001b[0;32mas\u001b[0m \u001b[0minput_file\u001b[0m\u001b[0;34m:\u001b[0m\u001b[0;34m\u001b[0m\u001b[0;34m\u001b[0m\u001b[0m\n",
            "\u001b[0;32m/usr/local/lib/python3.10/dist-packages/audioread/__init__.py\u001b[0m in \u001b[0;36maudio_open\u001b[0;34m(path, backends)\u001b[0m\n\u001b[1;32m    130\u001b[0m \u001b[0;34m\u001b[0m\u001b[0m\n\u001b[1;32m    131\u001b[0m     \u001b[0;31m# All backends failed!\u001b[0m\u001b[0;34m\u001b[0m\u001b[0;34m\u001b[0m\u001b[0m\n\u001b[0;32m--> 132\u001b[0;31m     \u001b[0;32mraise\u001b[0m \u001b[0mNoBackendError\u001b[0m\u001b[0;34m(\u001b[0m\u001b[0;34m)\u001b[0m\u001b[0;34m\u001b[0m\u001b[0;34m\u001b[0m\u001b[0m\n\u001b[0m",
            "\u001b[0;31mNoBackendError\u001b[0m: "
          ]
        }
      ]
    },
    {
      "cell_type": "markdown",
      "source": [
        "**스펙트로그램을 역 푸리에변환을 통해 파형으로 변환함**\n",
        "\n",
        "\n",
        "\n"
      ],
      "metadata": {
        "id": "tJK6rquyLpDi"
      }
    },
    {
      "cell_type": "code",
      "source": [],
      "metadata": {
        "id": "1iH6msML4dlk"
      },
      "execution_count": null,
      "outputs": []
    }
  ]
}