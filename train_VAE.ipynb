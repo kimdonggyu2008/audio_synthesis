{
  "nbformat": 4,
  "nbformat_minor": 0,
  "metadata": {
    "colab": {
      "provenance": [],
      "authorship_tag": "ABX9TyP6c/wPuolNffQwsphYebNi",
      "include_colab_link": true
    },
    "kernelspec": {
      "name": "python3",
      "display_name": "Python 3"
    },
    "language_info": {
      "name": "python"
    }
  },
  "cells": [
    {
      "cell_type": "markdown",
      "metadata": {
        "id": "view-in-github",
        "colab_type": "text"
      },
      "source": [
        "<a href=\"https://colab.research.google.com/github/kimdonggyu2008/audio_synthesis/blob/main/train_VAE.ipynb\" target=\"_parent\"><img src=\"https://colab.research.google.com/assets/colab-badge.svg\" alt=\"Open In Colab\"/></a>"
      ]
    },
    {
      "cell_type": "code",
      "source": [
        "from google.colab import drive\n",
        "drive.mount('/content/drive')"
      ],
      "metadata": {
        "id": "OxwJsGhfDRWy",
        "colab": {
          "base_uri": "https://localhost:8080/"
        },
        "outputId": "ad4dad66-0397-42fa-fe3e-5ef55ce49c79"
      },
      "execution_count": null,
      "outputs": [
        {
          "output_type": "stream",
          "name": "stdout",
          "text": [
            "Drive already mounted at /content/drive; to attempt to forcibly remount, call drive.mount(\"/content/drive\", force_remount=True).\n"
          ]
        }
      ]
    },
    {
      "cell_type": "code",
      "source": [
        "!pwd /content/drive/MyDrive/오디오_합성"
      ],
      "metadata": {
        "id": "3QSKecglECws",
        "colab": {
          "base_uri": "https://localhost:8080/"
        },
        "outputId": "0dbb6ac1-afc8-4ab8-eb2d-f9a86d556c4c"
      },
      "execution_count": null,
      "outputs": [
        {
          "output_type": "stream",
          "name": "stdout",
          "text": [
            "/content/drive/MyDrive/오디오_합성\n"
          ]
        }
      ]
    },
    {
      "cell_type": "code",
      "source": [
        "!ls\n"
      ],
      "metadata": {
        "colab": {
          "base_uri": "https://localhost:8080/"
        },
        "id": "N5cdTlbpO9Ut",
        "outputId": "58dcc0e9-429e-4d5b-c070-b21415cb5e4f"
      },
      "execution_count": null,
      "outputs": [
        {
          "output_type": "stream",
          "name": "stdout",
          "text": [
            " analysis.ipynb    autoencoder.ipynb\t      'keras 활용한 인코더, 디코더.ipynb'   train.ipynb\n",
            " autoencoder1.py  'keras활용한 인코더.ipynb'   train1.py\n"
          ]
        }
      ]
    },
    {
      "cell_type": "code",
      "source": [
        "!pip install ipynb"
      ],
      "metadata": {
        "colab": {
          "base_uri": "https://localhost:8080/"
        },
        "id": "1c8NzSoZW2Me",
        "outputId": "8664d126-b8c9-48ba-83ce-281a573b74b0"
      },
      "execution_count": null,
      "outputs": [
        {
          "output_type": "stream",
          "name": "stdout",
          "text": [
            "Collecting ipynb\n",
            "  Downloading ipynb-0.5.1-py3-none-any.whl (6.9 kB)\n",
            "Installing collected packages: ipynb\n",
            "Successfully installed ipynb-0.5.1\n"
          ]
        }
      ]
    },
    {
      "cell_type": "code",
      "source": [
        "import sys, os\n",
        "sys.path.append(r'/content/drive/MyDrive/오디오_합성')"
      ],
      "metadata": {
        "id": "K86Bg6R-Vmyq"
      },
      "execution_count": null,
      "outputs": []
    },
    {
      "cell_type": "code",
      "execution_count": null,
      "metadata": {
        "id": "Uw-GMXesC2Wo",
        "colab": {
          "base_uri": "https://localhost:8080/",
          "height": 349
        },
        "outputId": "83beb93a-33b8-4764-b295-30c7006bf782"
      },
      "outputs": [
        {
          "output_type": "error",
          "ename": "ModuleNotFoundError",
          "evalue": "No module named 'autoencoder1'",
          "traceback": [
            "\u001b[0;31m---------------------------------------------------------------------------\u001b[0m",
            "\u001b[0;31mModuleNotFoundError\u001b[0m                       Traceback (most recent call last)",
            "\u001b[0;32m<ipython-input-55-1a5f07046cb8>\u001b[0m in \u001b[0;36m<cell line: 2>\u001b[0;34m()\u001b[0m\n\u001b[1;32m      1\u001b[0m \u001b[0;32mfrom\u001b[0m \u001b[0mtensorflow\u001b[0m\u001b[0;34m.\u001b[0m\u001b[0mkeras\u001b[0m\u001b[0;34m.\u001b[0m\u001b[0mdatasets\u001b[0m \u001b[0;32mimport\u001b[0m \u001b[0mmnist\u001b[0m\u001b[0;34m\u001b[0m\u001b[0;34m\u001b[0m\u001b[0m\n\u001b[0;32m----> 2\u001b[0;31m \u001b[0;32mfrom\u001b[0m \u001b[0mautoencoder1\u001b[0m \u001b[0;32mimport\u001b[0m \u001b[0mAutoencoder\u001b[0m\u001b[0;34m\u001b[0m\u001b[0;34m\u001b[0m\u001b[0m\n\u001b[0m",
            "\u001b[0;31mModuleNotFoundError\u001b[0m: No module named 'autoencoder1'",
            "",
            "\u001b[0;31m---------------------------------------------------------------------------\u001b[0;32m\nNOTE: If your import is failing due to a missing package, you can\nmanually install dependencies using either !pip or !apt.\n\nTo view examples of installing some common dependencies, click the\n\"Open Examples\" button below.\n\u001b[0;31m---------------------------------------------------------------------------\u001b[0m\n"
          ],
          "errorDetails": {
            "actions": [
              {
                "action": "open_url",
                "actionText": "Open Examples",
                "url": "/notebooks/snippets/importing_libraries.ipynb"
              }
            ]
          }
        }
      ],
      "source": [
        "from tensorflow.keras.datasets import mnist\n",
        "from autoencoder_VAE import VAE"
      ]
    },
    {
      "cell_type": "code",
      "source": [
        "LEARNING_RATE=0.0015\n",
        "BATCH_SIZE=32\n",
        "EPOCHS=20\n",
        "\n",
        "def load_mnist():\n",
        "  (x_train,y_train),(x_test,y_test)=mnist.load_data()\n",
        "\n",
        "  x_train=x_train.astype(\"float32\")/255\n",
        "  x_train=x_train.reshape(x_train.shape+(1,))\n",
        "  x_test=x_test.astype(\"float32\")/255\n",
        "  x_test=x_test.reshape(x_test.shape+(1,))\n",
        "\n",
        "  return x_train,y_train,x_test,y_test\n",
        "\n",
        "def train(x_train,learning_rate,batch_size,epochs):\n",
        "  autoencoder=VAE(\n",
        "      input_shape=(28, 28, 1),\n",
        "      conv_filters=(32, 64, 64, 64),\n",
        "      conv_kernels=(3, 3, 3, 3),\n",
        "      conv_strides=(1, 2, 2, 1),\n",
        "      latent_space_dim=2\n",
        "  )\n",
        "\n",
        "  autoencoder.summary()\n",
        "  autoencoder.compile(learning_rate)\n",
        "  autoencoder.train(x_train,batch_size,epochs)\n",
        "  return autoencoder\n",
        "\n",
        "\n",
        "if __name__==\"__main__\":\n",
        "  x_train,_,_,_=load_mnist()\n",
        "  autoencoder=train(x_train[:10000],LEARNING_RATE,BATCH_SIZE,EPOCHS)\n",
        "  autoencoder.save(\"model\")#학습으로 생성된 패러미터 저장\n",
        "  autoencoder2=Autoencoder.load(\"model\")#패러미터 불러옴\n",
        "  autoencoder2.summary()"
      ],
      "metadata": {
        "id": "XjMOJv9rDEMY"
      },
      "execution_count": null,
      "outputs": []
    },
    {
      "cell_type": "code",
      "source": [],
      "metadata": {
        "id": "bZIGaSKLEoeX"
      },
      "execution_count": null,
      "outputs": []
    }
  ]
}